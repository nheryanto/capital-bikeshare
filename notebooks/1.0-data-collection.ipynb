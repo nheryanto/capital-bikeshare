{
 "cells": [
  {
   "cell_type": "code",
   "execution_count": 1,
   "metadata": {},
   "outputs": [],
   "source": [
    "import pandas as pd\n",
    "import subprocess\n",
    "import json"
   ]
  },
  {
   "cell_type": "code",
   "execution_count": 2,
   "metadata": {},
   "outputs": [],
   "source": [
    "def skim_data(data):\n",
    "    summary = pd.DataFrame({\n",
    "                    'column': data.columns.values,\n",
    "                    'type': data.dtypes.values,\n",
    "                    'n_unique': data.nunique().values,\n",
    "                    'min': data.min().values,\n",
    "                    'max': data.max().values,\n",
    "                    'sample_unique': [data[col].unique() for col in data.columns]\n",
    "                })\n",
    "    return summary"
   ]
  },
  {
   "cell_type": "markdown",
   "metadata": {},
   "source": [
    "Notebook ini berisi penjelasan mengenai pemahaman dataset dari segi kelengkapan data untuk melakukan prediksi demand Capital Bikeshare."
   ]
  },
  {
   "cell_type": "markdown",
   "metadata": {},
   "source": [
    "## `1. Provided Data`"
   ]
  },
  {
   "cell_type": "markdown",
   "metadata": {},
   "source": [
    "Akses dataset <a href='https://drive.google.com/file/d/1lSbp2GTSgE8jwvA2K8rlLRZIUTWNNfXe/view?usp=drive_link'>disini</a>."
   ]
  },
  {
   "cell_type": "code",
   "execution_count": 3,
   "metadata": {},
   "outputs": [
    {
     "name": "stdout",
     "output_type": "stream",
     "text": [
      "Jumlah baris dan kolom: (12165, 11)\n"
     ]
    },
    {
     "data": {
      "text/html": [
       "<div>\n",
       "<style scoped>\n",
       "    .dataframe tbody tr th:only-of-type {\n",
       "        vertical-align: middle;\n",
       "    }\n",
       "\n",
       "    .dataframe tbody tr th {\n",
       "        vertical-align: top;\n",
       "    }\n",
       "\n",
       "    .dataframe thead th {\n",
       "        text-align: right;\n",
       "    }\n",
       "</style>\n",
       "<table border=\"1\" class=\"dataframe\">\n",
       "  <thead>\n",
       "    <tr style=\"text-align: right;\">\n",
       "      <th></th>\n",
       "      <th>column</th>\n",
       "      <th>type</th>\n",
       "      <th>n_unique</th>\n",
       "      <th>min</th>\n",
       "      <th>max</th>\n",
       "      <th>sample_unique</th>\n",
       "    </tr>\n",
       "  </thead>\n",
       "  <tbody>\n",
       "    <tr>\n",
       "      <th>0</th>\n",
       "      <td>dteday</td>\n",
       "      <td>object</td>\n",
       "      <td>731</td>\n",
       "      <td>2011-01-01</td>\n",
       "      <td>2012-12-31</td>\n",
       "      <td>[2011-12-09, 2012-06-17, 2011-06-15, 2012-03-3...</td>\n",
       "    </tr>\n",
       "    <tr>\n",
       "      <th>1</th>\n",
       "      <td>hum</td>\n",
       "      <td>float64</td>\n",
       "      <td>89</td>\n",
       "      <td>0.0</td>\n",
       "      <td>1.0</td>\n",
       "      <td>[0.62, 0.64, 0.53, 0.87, 0.55, 0.72, 0.54, 0.9...</td>\n",
       "    </tr>\n",
       "    <tr>\n",
       "      <th>2</th>\n",
       "      <td>weathersit</td>\n",
       "      <td>int64</td>\n",
       "      <td>4</td>\n",
       "      <td>1</td>\n",
       "      <td>4</td>\n",
       "      <td>[1, 2, 3, 4]</td>\n",
       "    </tr>\n",
       "    <tr>\n",
       "      <th>3</th>\n",
       "      <td>holiday</td>\n",
       "      <td>int64</td>\n",
       "      <td>2</td>\n",
       "      <td>0</td>\n",
       "      <td>1</td>\n",
       "      <td>[0, 1]</td>\n",
       "    </tr>\n",
       "    <tr>\n",
       "      <th>4</th>\n",
       "      <td>season</td>\n",
       "      <td>int64</td>\n",
       "      <td>4</td>\n",
       "      <td>1</td>\n",
       "      <td>4</td>\n",
       "      <td>[4, 2, 3, 1]</td>\n",
       "    </tr>\n",
       "    <tr>\n",
       "      <th>5</th>\n",
       "      <td>atemp</td>\n",
       "      <td>float64</td>\n",
       "      <td>65</td>\n",
       "      <td>0.0</td>\n",
       "      <td>1.0</td>\n",
       "      <td>[0.3485, 0.5152, 0.6212, 0.697, 0.4545, 0.6515...</td>\n",
       "    </tr>\n",
       "    <tr>\n",
       "      <th>6</th>\n",
       "      <td>temp</td>\n",
       "      <td>float64</td>\n",
       "      <td>50</td>\n",
       "      <td>0.02</td>\n",
       "      <td>1.0</td>\n",
       "      <td>[0.36, 0.54, 0.62, 0.76, 0.46, 0.7, 0.26, 0.82...</td>\n",
       "    </tr>\n",
       "    <tr>\n",
       "      <th>7</th>\n",
       "      <td>hr</td>\n",
       "      <td>int64</td>\n",
       "      <td>24</td>\n",
       "      <td>0</td>\n",
       "      <td>23</td>\n",
       "      <td>[16, 4, 23, 8, 18, 0, 22, 9, 5, 7, 14, 15, 21,...</td>\n",
       "    </tr>\n",
       "    <tr>\n",
       "      <th>8</th>\n",
       "      <td>casual</td>\n",
       "      <td>int64</td>\n",
       "      <td>305</td>\n",
       "      <td>0</td>\n",
       "      <td>362</td>\n",
       "      <td>[24, 2, 17, 19, 99, 6, 20, 13, 219, 1, 11, 9, ...</td>\n",
       "    </tr>\n",
       "    <tr>\n",
       "      <th>9</th>\n",
       "      <td>registered</td>\n",
       "      <td>int64</td>\n",
       "      <td>742</td>\n",
       "      <td>0</td>\n",
       "      <td>876</td>\n",
       "      <td>[226, 16, 90, 126, 758, 39, 196, 27, 5, 315, 2...</td>\n",
       "    </tr>\n",
       "    <tr>\n",
       "      <th>10</th>\n",
       "      <td>cnt</td>\n",
       "      <td>int64</td>\n",
       "      <td>830</td>\n",
       "      <td>1</td>\n",
       "      <td>970</td>\n",
       "      <td>[250, 18, 107, 145, 857, 45, 216, 40, 7, 534, ...</td>\n",
       "    </tr>\n",
       "  </tbody>\n",
       "</table>\n",
       "</div>"
      ],
      "text/plain": [
       "        column     type  n_unique         min         max  \\\n",
       "0       dteday   object       731  2011-01-01  2012-12-31   \n",
       "1          hum  float64        89         0.0         1.0   \n",
       "2   weathersit    int64         4           1           4   \n",
       "3      holiday    int64         2           0           1   \n",
       "4       season    int64         4           1           4   \n",
       "5        atemp  float64        65         0.0         1.0   \n",
       "6         temp  float64        50        0.02         1.0   \n",
       "7           hr    int64        24           0          23   \n",
       "8       casual    int64       305           0         362   \n",
       "9   registered    int64       742           0         876   \n",
       "10         cnt    int64       830           1         970   \n",
       "\n",
       "                                        sample_unique  \n",
       "0   [2011-12-09, 2012-06-17, 2011-06-15, 2012-03-3...  \n",
       "1   [0.62, 0.64, 0.53, 0.87, 0.55, 0.72, 0.54, 0.9...  \n",
       "2                                        [1, 2, 3, 4]  \n",
       "3                                              [0, 1]  \n",
       "4                                        [4, 2, 3, 1]  \n",
       "5   [0.3485, 0.5152, 0.6212, 0.697, 0.4545, 0.6515...  \n",
       "6   [0.36, 0.54, 0.62, 0.76, 0.46, 0.7, 0.26, 0.82...  \n",
       "7   [16, 4, 23, 8, 18, 0, 22, 9, 5, 7, 14, 15, 21,...  \n",
       "8   [24, 2, 17, 19, 99, 6, 20, 13, 219, 1, 11, 9, ...  \n",
       "9   [226, 16, 90, 126, 758, 39, 196, 27, 5, 315, 2...  \n",
       "10  [250, 18, 107, 145, 857, 45, 216, 40, 7, 534, ...  "
      ]
     },
     "metadata": {},
     "output_type": "display_data"
    }
   ],
   "source": [
    "df = pd.read_csv('../data/raw/data_bike_sharing.csv')\n",
    "print(f'Jumlah baris dan kolom: {df.shape}')\n",
    "display(skim_data(df))"
   ]
  },
  {
   "cell_type": "markdown",
   "metadata": {},
   "source": [
    "Dataset merupakan data jumlah pengguna sepeda Capital Bikeshare di tahun 2011 dan 2012. Setiap baris data merepresentasikan informasi terkait jumlah pengguna sepeda dan kondisi cuaca pada jam tertentu di satu hari. Mengingat data bersifat time-series (setiap poin data merupakan data di waktu yang berbeda), pendekatan modeling juga akan dilakukan secara time-series. Beberapa hal yang perlu diperhatikan dalam analisis time-series adalah urutan data dan keseragaman jarak antar poin data. Data harus terurut secara waktu dari masa lalu sampai masa kini dan dua data yang berurutan memiliki jarak waktu yang sama misal satuan jam atau hari.\n",
    "\n",
    "Mengingat dataset merupakan data jumlah pengguna sepeda pada jam tertentu di tahun 2011 dan 2012, ekspektasi dataset yang lengkap akan mempunyai jumlah poin data sebanyak: 731* hari x 24 jam = 17544 poin data. Akan tetapi, dataset yang tersedia jelas memiliki kekurangan data karena hanya terdiri dari 12165 poin data. Dataset lengkap secara hari karena unique value tanggal adalah sebanyak 731 yang sesuai dengan jumlah hari di tahun 2011 dan 2012. Dengan begitu, kekurangan data disebabkan oleh tidak lengkapnya data secara jam yang bisa dilihat lebih detail sebagai berikut.\n",
    "\n",
    "*catatan: jumlah hari di tahun 2011 dan 2012, 365 + 366 karena tahun 2012 merupakan tahun kabisat"
   ]
  },
  {
   "cell_type": "code",
   "execution_count": 4,
   "metadata": {},
   "outputs": [
    {
     "data": {
      "text/html": [
       "<div>\n",
       "<style scoped>\n",
       "    .dataframe tbody tr th:only-of-type {\n",
       "        vertical-align: middle;\n",
       "    }\n",
       "\n",
       "    .dataframe tbody tr th {\n",
       "        vertical-align: top;\n",
       "    }\n",
       "\n",
       "    .dataframe thead th {\n",
       "        text-align: right;\n",
       "    }\n",
       "</style>\n",
       "<table border=\"1\" class=\"dataframe\">\n",
       "  <thead>\n",
       "    <tr style=\"text-align: right;\">\n",
       "      <th></th>\n",
       "      <th>dteday</th>\n",
       "      <th>hour count</th>\n",
       "    </tr>\n",
       "  </thead>\n",
       "  <tbody>\n",
       "    <tr>\n",
       "      <th>0</th>\n",
       "      <td>2011-08-09</td>\n",
       "      <td>22</td>\n",
       "    </tr>\n",
       "    <tr>\n",
       "      <th>1</th>\n",
       "      <td>2011-02-01</td>\n",
       "      <td>22</td>\n",
       "    </tr>\n",
       "    <tr>\n",
       "      <th>2</th>\n",
       "      <td>2012-03-02</td>\n",
       "      <td>22</td>\n",
       "    </tr>\n",
       "    <tr>\n",
       "      <th>3</th>\n",
       "      <td>2012-09-29</td>\n",
       "      <td>22</td>\n",
       "    </tr>\n",
       "    <tr>\n",
       "      <th>4</th>\n",
       "      <td>2011-05-26</td>\n",
       "      <td>22</td>\n",
       "    </tr>\n",
       "    <tr>\n",
       "      <th>...</th>\n",
       "      <td>...</td>\n",
       "      <td>...</td>\n",
       "    </tr>\n",
       "    <tr>\n",
       "      <th>726</th>\n",
       "      <td>2011-10-26</td>\n",
       "      <td>9</td>\n",
       "    </tr>\n",
       "    <tr>\n",
       "      <th>727</th>\n",
       "      <td>2012-10-30</td>\n",
       "      <td>8</td>\n",
       "    </tr>\n",
       "    <tr>\n",
       "      <th>728</th>\n",
       "      <td>2011-01-27</td>\n",
       "      <td>7</td>\n",
       "    </tr>\n",
       "    <tr>\n",
       "      <th>729</th>\n",
       "      <td>2011-01-18</td>\n",
       "      <td>6</td>\n",
       "    </tr>\n",
       "    <tr>\n",
       "      <th>730</th>\n",
       "      <td>2012-10-29</td>\n",
       "      <td>1</td>\n",
       "    </tr>\n",
       "  </tbody>\n",
       "</table>\n",
       "<p>731 rows × 2 columns</p>\n",
       "</div>"
      ],
      "text/plain": [
       "         dteday  hour count\n",
       "0    2011-08-09          22\n",
       "1    2011-02-01          22\n",
       "2    2012-03-02          22\n",
       "3    2012-09-29          22\n",
       "4    2011-05-26          22\n",
       "..          ...         ...\n",
       "726  2011-10-26           9\n",
       "727  2012-10-30           8\n",
       "728  2011-01-27           7\n",
       "729  2011-01-18           6\n",
       "730  2012-10-29           1\n",
       "\n",
       "[731 rows x 2 columns]"
      ]
     },
     "execution_count": 4,
     "metadata": {},
     "output_type": "execute_result"
    }
   ],
   "source": [
    "df['dteday'].value_counts().reset_index().rename(columns={'count': 'hour count'})"
   ]
  },
  {
   "cell_type": "markdown",
   "metadata": {},
   "source": [
    "Seharusnya, setiap hari memiliki hour count sebanyak 24. Sementara itu, di dataset ini tidak ada hari yang memiliki hour count yang lengkap atau dengan kata lain, ada jam yang data jumlah pengguna sepedanya tidak tersedia. Kita akan melihat lebih lanjut sumber dataset original yang disebutkan dalam keterangan dataset (akses <a href=\"https://docs.google.com/document/d/1mNMpg4t6n9pKAlA0Khiivfwuv21JZVQoZ9ygvX4BI34/edit?usp=drive_link\">disini</a>)."
   ]
  },
  {
   "cell_type": "markdown",
   "metadata": {},
   "source": [
    "## `2. Original Data`"
   ]
  },
  {
   "cell_type": "markdown",
   "metadata": {},
   "source": [
    "Akses dataset <a href='https://archive.ics.uci.edu/dataset/275/bike+sharing+dataset'>disini</a>."
   ]
  },
  {
   "cell_type": "code",
   "execution_count": 5,
   "metadata": {},
   "outputs": [
    {
     "name": "stdout",
     "output_type": "stream",
     "text": [
      "Jumlah baris dan kolom: (17379, 17)\n"
     ]
    },
    {
     "data": {
      "text/html": [
       "<div>\n",
       "<style scoped>\n",
       "    .dataframe tbody tr th:only-of-type {\n",
       "        vertical-align: middle;\n",
       "    }\n",
       "\n",
       "    .dataframe tbody tr th {\n",
       "        vertical-align: top;\n",
       "    }\n",
       "\n",
       "    .dataframe thead th {\n",
       "        text-align: right;\n",
       "    }\n",
       "</style>\n",
       "<table border=\"1\" class=\"dataframe\">\n",
       "  <thead>\n",
       "    <tr style=\"text-align: right;\">\n",
       "      <th></th>\n",
       "      <th>column</th>\n",
       "      <th>type</th>\n",
       "      <th>n_unique</th>\n",
       "      <th>min</th>\n",
       "      <th>max</th>\n",
       "      <th>sample_unique</th>\n",
       "    </tr>\n",
       "  </thead>\n",
       "  <tbody>\n",
       "    <tr>\n",
       "      <th>0</th>\n",
       "      <td>instant</td>\n",
       "      <td>int64</td>\n",
       "      <td>17379</td>\n",
       "      <td>1</td>\n",
       "      <td>17379</td>\n",
       "      <td>[1, 2, 3, 4, 5, 6, 7, 8, 9, 10, 11, 12, 13, 14...</td>\n",
       "    </tr>\n",
       "    <tr>\n",
       "      <th>1</th>\n",
       "      <td>dteday</td>\n",
       "      <td>object</td>\n",
       "      <td>731</td>\n",
       "      <td>2011-01-01</td>\n",
       "      <td>2012-12-31</td>\n",
       "      <td>[2011-01-01, 2011-01-02, 2011-01-03, 2011-01-0...</td>\n",
       "    </tr>\n",
       "    <tr>\n",
       "      <th>2</th>\n",
       "      <td>season</td>\n",
       "      <td>int64</td>\n",
       "      <td>4</td>\n",
       "      <td>1</td>\n",
       "      <td>4</td>\n",
       "      <td>[1, 2, 3, 4]</td>\n",
       "    </tr>\n",
       "    <tr>\n",
       "      <th>3</th>\n",
       "      <td>yr</td>\n",
       "      <td>int64</td>\n",
       "      <td>2</td>\n",
       "      <td>0</td>\n",
       "      <td>1</td>\n",
       "      <td>[0, 1]</td>\n",
       "    </tr>\n",
       "    <tr>\n",
       "      <th>4</th>\n",
       "      <td>mnth</td>\n",
       "      <td>int64</td>\n",
       "      <td>12</td>\n",
       "      <td>1</td>\n",
       "      <td>12</td>\n",
       "      <td>[1, 2, 3, 4, 5, 6, 7, 8, 9, 10, 11, 12]</td>\n",
       "    </tr>\n",
       "    <tr>\n",
       "      <th>5</th>\n",
       "      <td>hr</td>\n",
       "      <td>int64</td>\n",
       "      <td>24</td>\n",
       "      <td>0</td>\n",
       "      <td>23</td>\n",
       "      <td>[0, 1, 2, 3, 4, 5, 6, 7, 8, 9, 10, 11, 12, 13,...</td>\n",
       "    </tr>\n",
       "    <tr>\n",
       "      <th>6</th>\n",
       "      <td>holiday</td>\n",
       "      <td>int64</td>\n",
       "      <td>2</td>\n",
       "      <td>0</td>\n",
       "      <td>1</td>\n",
       "      <td>[0, 1]</td>\n",
       "    </tr>\n",
       "    <tr>\n",
       "      <th>7</th>\n",
       "      <td>weekday</td>\n",
       "      <td>int64</td>\n",
       "      <td>7</td>\n",
       "      <td>0</td>\n",
       "      <td>6</td>\n",
       "      <td>[6, 0, 1, 2, 3, 4, 5]</td>\n",
       "    </tr>\n",
       "    <tr>\n",
       "      <th>8</th>\n",
       "      <td>workingday</td>\n",
       "      <td>int64</td>\n",
       "      <td>2</td>\n",
       "      <td>0</td>\n",
       "      <td>1</td>\n",
       "      <td>[0, 1]</td>\n",
       "    </tr>\n",
       "    <tr>\n",
       "      <th>9</th>\n",
       "      <td>weathersit</td>\n",
       "      <td>int64</td>\n",
       "      <td>4</td>\n",
       "      <td>1</td>\n",
       "      <td>4</td>\n",
       "      <td>[1, 2, 3, 4]</td>\n",
       "    </tr>\n",
       "    <tr>\n",
       "      <th>10</th>\n",
       "      <td>temp</td>\n",
       "      <td>float64</td>\n",
       "      <td>50</td>\n",
       "      <td>0.02</td>\n",
       "      <td>1.0</td>\n",
       "      <td>[0.24, 0.22, 0.2, 0.32, 0.38, 0.36, 0.42, 0.46...</td>\n",
       "    </tr>\n",
       "    <tr>\n",
       "      <th>11</th>\n",
       "      <td>atemp</td>\n",
       "      <td>float64</td>\n",
       "      <td>65</td>\n",
       "      <td>0.0</td>\n",
       "      <td>1.0</td>\n",
       "      <td>[0.2879, 0.2727, 0.2576, 0.3485, 0.3939, 0.333...</td>\n",
       "    </tr>\n",
       "    <tr>\n",
       "      <th>12</th>\n",
       "      <td>hum</td>\n",
       "      <td>float64</td>\n",
       "      <td>89</td>\n",
       "      <td>0.0</td>\n",
       "      <td>1.0</td>\n",
       "      <td>[0.81, 0.8, 0.75, 0.86, 0.76, 0.77, 0.72, 0.82...</td>\n",
       "    </tr>\n",
       "    <tr>\n",
       "      <th>13</th>\n",
       "      <td>windspeed</td>\n",
       "      <td>float64</td>\n",
       "      <td>30</td>\n",
       "      <td>0.0</td>\n",
       "      <td>0.8507</td>\n",
       "      <td>[0.0, 0.0896, 0.2537, 0.2836, 0.2985, 0.194, 0...</td>\n",
       "    </tr>\n",
       "    <tr>\n",
       "      <th>14</th>\n",
       "      <td>casual</td>\n",
       "      <td>int64</td>\n",
       "      <td>322</td>\n",
       "      <td>0</td>\n",
       "      <td>367</td>\n",
       "      <td>[3, 8, 5, 0, 2, 1, 12, 26, 29, 47, 35, 40, 41,...</td>\n",
       "    </tr>\n",
       "    <tr>\n",
       "      <th>15</th>\n",
       "      <td>registered</td>\n",
       "      <td>int64</td>\n",
       "      <td>776</td>\n",
       "      <td>0</td>\n",
       "      <td>886</td>\n",
       "      <td>[13, 32, 27, 10, 1, 0, 2, 7, 6, 24, 30, 55, 47...</td>\n",
       "    </tr>\n",
       "    <tr>\n",
       "      <th>16</th>\n",
       "      <td>cnt</td>\n",
       "      <td>int64</td>\n",
       "      <td>869</td>\n",
       "      <td>1</td>\n",
       "      <td>977</td>\n",
       "      <td>[16, 40, 32, 13, 1, 2, 3, 8, 14, 36, 56, 84, 9...</td>\n",
       "    </tr>\n",
       "  </tbody>\n",
       "</table>\n",
       "</div>"
      ],
      "text/plain": [
       "        column     type  n_unique         min         max  \\\n",
       "0      instant    int64     17379           1       17379   \n",
       "1       dteday   object       731  2011-01-01  2012-12-31   \n",
       "2       season    int64         4           1           4   \n",
       "3           yr    int64         2           0           1   \n",
       "4         mnth    int64        12           1          12   \n",
       "5           hr    int64        24           0          23   \n",
       "6      holiday    int64         2           0           1   \n",
       "7      weekday    int64         7           0           6   \n",
       "8   workingday    int64         2           0           1   \n",
       "9   weathersit    int64         4           1           4   \n",
       "10        temp  float64        50        0.02         1.0   \n",
       "11       atemp  float64        65         0.0         1.0   \n",
       "12         hum  float64        89         0.0         1.0   \n",
       "13   windspeed  float64        30         0.0      0.8507   \n",
       "14      casual    int64       322           0         367   \n",
       "15  registered    int64       776           0         886   \n",
       "16         cnt    int64       869           1         977   \n",
       "\n",
       "                                        sample_unique  \n",
       "0   [1, 2, 3, 4, 5, 6, 7, 8, 9, 10, 11, 12, 13, 14...  \n",
       "1   [2011-01-01, 2011-01-02, 2011-01-03, 2011-01-0...  \n",
       "2                                        [1, 2, 3, 4]  \n",
       "3                                              [0, 1]  \n",
       "4             [1, 2, 3, 4, 5, 6, 7, 8, 9, 10, 11, 12]  \n",
       "5   [0, 1, 2, 3, 4, 5, 6, 7, 8, 9, 10, 11, 12, 13,...  \n",
       "6                                              [0, 1]  \n",
       "7                               [6, 0, 1, 2, 3, 4, 5]  \n",
       "8                                              [0, 1]  \n",
       "9                                        [1, 2, 3, 4]  \n",
       "10  [0.24, 0.22, 0.2, 0.32, 0.38, 0.36, 0.42, 0.46...  \n",
       "11  [0.2879, 0.2727, 0.2576, 0.3485, 0.3939, 0.333...  \n",
       "12  [0.81, 0.8, 0.75, 0.86, 0.76, 0.77, 0.72, 0.82...  \n",
       "13  [0.0, 0.0896, 0.2537, 0.2836, 0.2985, 0.194, 0...  \n",
       "14  [3, 8, 5, 0, 2, 1, 12, 26, 29, 47, 35, 40, 41,...  \n",
       "15  [13, 32, 27, 10, 1, 0, 2, 7, 6, 24, 30, 55, 47...  \n",
       "16  [16, 40, 32, 13, 1, 2, 3, 8, 14, 36, 56, 84, 9...  "
      ]
     },
     "metadata": {},
     "output_type": "display_data"
    }
   ],
   "source": [
    "df_original = pd.read_csv('../data/raw/hour.csv').sort_values(by=['dteday', 'hr']).reset_index(drop=True)\n",
    "print(f'Jumlah baris dan kolom: {df_original.shape}')\n",
    "display(skim_data(df_original))"
   ]
  },
  {
   "cell_type": "markdown",
   "metadata": {},
   "source": [
    "Dataset original ternyata masih mempunyai ketidaklengkapan data walaupun sudah lebih sedikit dari sebelumnya. Masih terdapat 17544-17379 = 165 poin data yang tidak lengkap dan kita anggap sebagai missing values untuk ditangani lebih lanjut."
   ]
  },
  {
   "cell_type": "markdown",
   "metadata": {},
   "source": [
    "## `3. Modified Data`"
   ]
  },
  {
   "cell_type": "markdown",
   "metadata": {},
   "source": [
    " Untuk data cuaca, kita akan mencari historical data cuaca per jam yang lengkap untuk tahun 2011 dan 2012 melalui salah satu platform weather forecast yang menyediakan open-source API (akses <a href='https://open-meteo.com/'>disini</a>), dengan batasan data temperatur dan kelembapan saja. Missing values yang berhubungan dengan tanggal akan mengikuti data tanggal yang sesuai. Untuk data lainnya, kita akan menggunakan pendekatan forward fill atau melakukan imputasi berdasarkan data terakhir sebelumnya yang valid, khususnya untuk jumlah pengguna sepeda dengan pertimbangan jumlah pengguna sepeda tidak berubah secara drastis setiap jamnya."
   ]
  },
  {
   "cell_type": "code",
   "execution_count": 7,
   "metadata": {},
   "outputs": [
    {
     "data": {
      "text/plain": [
       "(17544, 3)"
      ]
     },
     "execution_count": 7,
     "metadata": {},
     "output_type": "execute_result"
    }
   ],
   "source": [
    "# reference: https://github.com/m0rp43us/openmeteopy/issues/10#issuecomment-1620424369\n",
    "latitude, longitude = 38.895, -77.036\n",
    "start_date, end_date = '2011-01-01', '2012-12-31'\n",
    "dict_weather = subprocess.check_output(['curl', f'https://archive-api.open-meteo.com/v1/era5?latitude={latitude}&longitude={longitude}&start_date={start_date}&end_date={end_date}&hourly=temperature_2m,relativehumidity_2m']).decode()\n",
    "dict_weather = json.loads(dict_weather)\n",
    "# convert to pandas dataframe\n",
    "df_weather = pd.DataFrame([dict_weather['hourly']['time'],\n",
    "                           dict_weather['hourly']['temperature_2m'],\n",
    "                           dict_weather['hourly']['relativehumidity_2m']],\n",
    "                           index = ['datetime', 'Temperature', 'Humidity']).T\n",
    "df_weather['datetime'] = pd.to_datetime(df_weather['datetime'])\n",
    "df_weather.shape"
   ]
  },
  {
   "cell_type": "code",
   "execution_count": 8,
   "metadata": {},
   "outputs": [],
   "source": [
    "df_original['datetime'] = pd.to_datetime(df_original['dteday']) + pd.to_timedelta(df_original['hr'], unit='h')"
   ]
  },
  {
   "cell_type": "code",
   "execution_count": 9,
   "metadata": {},
   "outputs": [],
   "source": [
    "df_clean = df_original.merge(df_weather, on='datetime', how='outer').sort_values(by='datetime').reset_index(drop=True)"
   ]
  },
  {
   "cell_type": "code",
   "execution_count": 10,
   "metadata": {},
   "outputs": [],
   "source": [
    "tmp = df_clean.isna().sum().reset_index()"
   ]
  },
  {
   "cell_type": "code",
   "execution_count": 11,
   "metadata": {},
   "outputs": [],
   "source": [
    "for col in tmp[tmp[0]>0]['index']:\n",
    "    df_clean[col] = df_clean[col].ffill()"
   ]
  },
  {
   "cell_type": "code",
   "execution_count": 12,
   "metadata": {},
   "outputs": [
    {
     "data": {
      "text/plain": [
       "<Axes: >"
      ]
     },
     "execution_count": 12,
     "metadata": {},
     "output_type": "execute_result"
    },
    {
     "data": {
      "image/png": "[encoded data removed]",
      "text/plain": [
       "<Figure size 2500x1000 with 2 Axes>"
      ]
     },
     "metadata": {},
     "output_type": "display_data"
    }
   ],
   "source": [
    "import missingno as msno\n",
    "msno.matrix(df_clean)"
   ]
  }
 ],
 "metadata": {
  "kernelspec": {
   "display_name": "Python 3",
   "language": "python",
   "name": "python3"
  },
  "language_info": {
   "codemirror_mode": {
    "name": "ipython",
    "version": 3
   },
   "file_extension": ".py",
   "mimetype": "text/x-python",
   "name": "python",
   "nbconvert_exporter": "python",
   "pygments_lexer": "ipython3",
   "version": "3.9.13"
  },
  "orig_nbformat": 4
 },
 "nbformat": 4,
 "nbformat_minor": 2
}
